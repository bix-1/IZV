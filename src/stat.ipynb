{
 "cells": [
  {
   "cell_type": "markdown",
   "metadata": {},
   "source": [
    "# Hypothesis testing on car accidents data in Czech Republic"
   ]
  },
  {
   "cell_type": "markdown",
   "metadata": {},
   "source": [
    "First, import libraries for data handling & statistical analysis"
   ]
  },
  {
   "cell_type": "code",
   "execution_count": 18,
   "metadata": {},
   "outputs": [],
   "source": [
    "import pandas as pd\n",
    "import scipy.stats as stat\n",
    "import numpy as np"
   ]
  },
  {
   "cell_type": "markdown",
   "metadata": {},
   "source": [
    "Fetch the data from data file"
   ]
  },
  {
   "cell_type": "code",
   "execution_count": 19,
   "metadata": {},
   "outputs": [],
   "source": [
    "df = pd.read_pickle(\"accidents.pkl.gz\")"
   ]
  },
  {
   "cell_type": "markdown",
   "metadata": {},
   "source": [
    "Test the following hypotheses with 95% confidence level."
   ]
  },
  {
   "cell_type": "markdown",
   "metadata": {},
   "source": [
    "## Hypothesis 1\n",
    "_The probability of an accident being fatal is the same for 1st class roads as for the highways_"
   ]
  },
  {
   "cell_type": "markdown",
   "metadata": {},
   "source": [
    "Filter by road type -- highways & 1st class roads only"
   ]
  },
  {
   "cell_type": "code",
   "execution_count": 20,
   "metadata": {},
   "outputs": [],
   "source": [
    "df1 = df.loc[df[\"p36\"] <= 1, [\"p36\", \"p13a\"]].copy()\n",
    "df1[\"p36\"] = df1[\"p36\"].map({0: \"Highway\", 1: \"1st class\"})\n"
   ]
  },
  {
   "cell_type": "markdown",
   "metadata": {},
   "source": [
    "Collect analyzed data -- fatal & non-fatal car accidents"
   ]
  },
  {
   "cell_type": "code",
   "execution_count": 21,
   "metadata": {},
   "outputs": [],
   "source": [
    "df1[\"fatal\"] = df1[\"p13a\"] > 0"
   ]
  },
  {
   "cell_type": "markdown",
   "metadata": {},
   "source": [
    "Compute a cross tabulation comparing the road type & accident's fatality"
   ]
  },
  {
   "cell_type": "code",
   "execution_count": 22,
   "metadata": {},
   "outputs": [
    {
     "name": "stdout",
     "output_type": "stream",
     "text": [
      "[[78618 24293]\n",
      " [  911   166]]\n"
     ]
    },
    {
     "data": {
      "text/html": [
       "<div>\n",
       "<style scoped>\n",
       "    .dataframe tbody tr th:only-of-type {\n",
       "        vertical-align: middle;\n",
       "    }\n",
       "\n",
       "    .dataframe tbody tr th {\n",
       "        vertical-align: top;\n",
       "    }\n",
       "\n",
       "    .dataframe thead th {\n",
       "        text-align: right;\n",
       "    }\n",
       "</style>\n",
       "<table border=\"1\" class=\"dataframe\">\n",
       "  <thead>\n",
       "    <tr style=\"text-align: right;\">\n",
       "      <th>Road type</th>\n",
       "      <th>1st class</th>\n",
       "      <th>Highway</th>\n",
       "    </tr>\n",
       "    <tr>\n",
       "      <th>Fatal</th>\n",
       "      <th></th>\n",
       "      <th></th>\n",
       "    </tr>\n",
       "  </thead>\n",
       "  <tbody>\n",
       "    <tr>\n",
       "      <th>False</th>\n",
       "      <td>78618</td>\n",
       "      <td>24293</td>\n",
       "    </tr>\n",
       "    <tr>\n",
       "      <th>True</th>\n",
       "      <td>911</td>\n",
       "      <td>166</td>\n",
       "    </tr>\n",
       "  </tbody>\n",
       "</table>\n",
       "</div>"
      ],
      "text/plain": [
       "Road type  1st class  Highway\n",
       "Fatal                        \n",
       "False          78618    24293\n",
       "True             911      166"
      ]
     },
     "execution_count": 22,
     "metadata": {},
     "output_type": "execute_result"
    }
   ],
   "source": [
    "tab = pd.crosstab(df1[\"fatal\"], df1[\"p36\"], rownames=[\"Fatal\"], colnames=[\"Road type\"])\n",
    "print(tab.to_numpy())\n",
    "tab"
   ]
  },
  {
   "cell_type": "markdown",
   "metadata": {},
   "source": [
    "Compute $\\chi^2$ test"
   ]
  },
  {
   "cell_type": "code",
   "execution_count": 23,
   "metadata": {},
   "outputs": [
    {
     "name": "stdout",
     "output_type": "stream",
     "text": [
      "P-value 3.6067450279444316e-10 is lesser than 0.05\n",
      "Expected frequencies:\n",
      " [[78705.32098896 24205.67901104]\n",
      " [  823.67901104   253.32098896]]\n",
      "The robability of an accident being fatal is lesser for 1st class road\n"
     ]
    }
   ],
   "source": [
    "_, p, _, exp = stat.chi2_contingency([tab])\n",
    "exp = exp[0]\n",
    "print(\"P-value\", p, \"is\", \"lesser\" if p < 0.05 else \"greater\", \"than 0.05\")\n",
    "print(\"Expected frequencies:\\n\", exp)\n",
    "probs = exp[1] / np.sum(exp, axis=0)\n",
    "print(\"The robability of an accident being fatal is\", \"greater\" if probs[0] > probs[1] else \"lesser\", \"for 1st class road\")\n"
   ]
  },
  {
   "cell_type": "markdown",
   "metadata": {},
   "source": [
    "Here we see that the p-value was lesser than 0.05, meaning that we reject the null hypothesis - that there is no relationship between the two factors. Thus the _hypothesis 1_ is proven to be **correct**."
   ]
  },
  {
   "cell_type": "markdown",
   "metadata": {},
   "source": [
    "## Hypothesis 2\n",
    "_The vehicle damages are lesser for **Škoda** brand cars than for **Audi**._"
   ]
  },
  {
   "cell_type": "markdown",
   "metadata": {},
   "source": [
    "Filter by car brand -- Škoda, Audi"
   ]
  },
  {
   "cell_type": "code",
   "execution_count": 24,
   "metadata": {},
   "outputs": [],
   "source": [
    "df2 = df.loc[(df[\"p45a\"] == 39) | (df[\"p45a\"] == 2), [\"p53\", \"p45a\"]].copy()\n",
    "skoda = df2.loc[df2[\"p45a\"] == 39, [\"p53\"]].squeeze()\n",
    "audi = df2.loc[df2[\"p45a\"] == 2, [\"p53\"]].squeeze()"
   ]
  },
  {
   "cell_type": "markdown",
   "metadata": {},
   "source": [
    "We are going to compute independent sample T-test to see, whether the population means of two groups (Škoda, Audi) are equal or not."
   ]
  },
  {
   "cell_type": "code",
   "execution_count": 25,
   "metadata": {},
   "outputs": [
    {
     "name": "stdout",
     "output_type": "stream",
     "text": [
      "P-value 6.1078288453876684e-121 is lesser than 0.05\n",
      "The value for Škoda is lesser\n"
     ]
    }
   ],
   "source": [
    "val, p = stat.ttest_ind(skoda, audi, equal_var=False, alternative=\"less\")\n",
    "print(\"P-value\", p, \"is\", \"lesser\" if p < 0.05 else \"greater\", \"than 0.05\")\n",
    "print(\"The value for\", \"Škoda\" if val < 0 else \"Audi\", \"is lesser\")"
   ]
  },
  {
   "cell_type": "markdown",
   "metadata": {},
   "source": [
    "Here we see that the p-value was lesser than 0.05, meaning that the null hypothesis - the mean values of the two populations are **equal**, is **rejected**, and that the mean value for Škoda cars is indeed lesser. Thus the alternative hypothesis - _hypothesis 2_ is proven to be **correct**."
   ]
  }
 ],
 "metadata": {
  "interpreter": {
   "hash": "36cf16204b8548560b1c020c4e8fb5b57f0e4c58016f52f2d4be01e192833930"
  },
  "kernelspec": {
   "display_name": "Python 3.9.5 64-bit",
   "language": "python",
   "name": "python3"
  },
  "language_info": {
   "codemirror_mode": {
    "name": "ipython",
    "version": 3
   },
   "file_extension": ".py",
   "mimetype": "text/x-python",
   "name": "python",
   "nbconvert_exporter": "python",
   "pygments_lexer": "ipython3",
   "version": "3.9.5"
  },
  "orig_nbformat": 4
 },
 "nbformat": 4,
 "nbformat_minor": 2
}
